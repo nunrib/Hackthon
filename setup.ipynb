{
 "cells": [
  {
   "cell_type": "markdown",
   "metadata": {
    "colab_type": "text",
    "id": "jSEMNKbJGWJG"
   },
   "source": [
    "# Data science 101 with COVID-19 dataset\n",
    "\n",
    "This notebook aims to be a guide to analyze the COVID-19 dataset created by Johns Hopkins University.\n",
    "\n",
    "In the notebook, you'll have several questions that you should answer using the dataset and the tools taught on the learning unit. Most questions are associated to one of the following topics:\n",
    "- ***Polygraph*** - you have to confirm if a specific news is fake (or not)! Fake news buuusters\n",
    "- ***Shooow time*** - sometimes it’s hard to make conclusions from looking at data but visualizations (charts) make it muuuuch easier ;-)\n",
    "- ***Fortune telling*** - data analysis is really cool but what about predict the future? Isn’it niceeeer? :-D\n",
    "\n",
    "To do it, we start with colabs notebook setup so we can use Google Colabs with 0-problems.\n",
    "\n",
    "After the setup, the notebook is splitted in the following units:\n",
    "- Unit 0 - Load dataset\n",
    "- Unit 1 - First overview\n",
    "- Unit 2 - Data Analysis: Worldwide\n",
    "- Unit 3 - Data Analysis: Country\n",
    "- Unit 4 - Making predictions\n",
    "\n",
    "Enjoooy ;)\n",
    "\n"
   ]
  },
  {
   "cell_type": "markdown",
   "metadata": {
    "colab_type": "text",
    "id": "lYDJ22pWzPZf"
   },
   "source": [
    "## File setup\n",
    "\n",
    "Run the cell below (to do it, click on the cell and then \"Shift+Enter\" - that's the shortcut you need to run the commands written in a cell)."
   ]
  },
  {
   "cell_type": "code",
   "execution_count": null,
   "metadata": {
    "colab": {
     "base_uri": "https://localhost:8080/",
     "height": 34
    },
    "colab_type": "code",
    "executionInfo": {
     "elapsed": 2374,
     "status": "ok",
     "timestamp": 1587218945257,
     "user": {
      "displayName": "Nuno Reis",
      "photoUrl": "",
      "userId": "07361859627404914753"
     },
     "user_tz": -60
    },
    "id": "kd8WNeg-I0__",
    "outputId": "53ab2b2e-b826-429e-bd3c-3c1056738baa"
   },
   "outputs": [],
   "source": [
    "import sys\n",
    "path = './'\n",
    "sys.path.append(path)\n",
    "\n",
    "import warnings\n",
    "warnings.filterwarnings('ignore')\n",
    "\n",
    "import pandas as pd\n",
    "import requests\n",
    "import io\n",
    "\n",
    "pd.read_csv(io.BytesIO(requests.get('https://thorly.education/backend/send-csv',\n",
    "                                    verify=False).content)).to_csv(path + 'dataset.csv',\n",
    "                                                                   index=False)\n",
    "\n",
    "with open(\"./hackathome.py\", \"w\") as f:\n",
    "  f.write(requests.get('https://thorly.education/backend/send-py').text)                                    \n",
    "\n",
    "print(\"Yeeeeaaahhhhh, Great success!\")"
   ]
  },
  {
   "cell_type": "markdown",
   "metadata": {
    "colab_type": "text",
    "id": "OdqSotVhJJOe"
   },
   "source": [
    "**If you don't receive 'Yeeeeaaahhhhh, Great success!', call one of the mentors!**\n",
    "\n",
    "Otherwise, you're ready to start your challenge. Please, write your code below this text! Good luck!"
   ]
  },
  {
   "cell_type": "markdown",
   "metadata": {
    "colab_type": "text",
    "id": "wNcANACMKV1J"
   },
   "source": [
    "## Challenge start (11h45)"
   ]
  },
  {
   "cell_type": "markdown",
   "metadata": {
    "colab_type": "text",
    "id": "ksrp5e0kW7S3"
   },
   "source": [
    "## Unit 0 - Load dataset (11h45-12h15)"
   ]
  },
  {
   "cell_type": "markdown",
   "metadata": {
    "colab_type": "text",
    "id": "CRMyQxWevi9o"
   },
   "source": [
    "#### **Import libraries**\n",
    "\n",
    "- 'pandas' to handle data\n",
    "- 'pyplot' to plot charts"
   ]
  },
  {
   "cell_type": "code",
   "execution_count": null,
   "metadata": {
    "colab": {},
    "colab_type": "code",
    "id": "3_WOvTdBms0g"
   },
   "outputs": [],
   "source": [
    "# Code here:\n"
   ]
  },
  {
   "cell_type": "markdown",
   "metadata": {
    "colab_type": "text",
    "id": "cvoCA2t_ms0e"
   },
   "source": [
    "#### **Load dataset to a dataframe**\n",
    "\n",
    "You already have the dataset with the name ***'dataset.csv'*** ready in the folder where this file is ;-)\n",
    "\n",
    "Load the csv into a Pandas DataFrame"
   ]
  },
  {
   "cell_type": "code",
   "execution_count": null,
   "metadata": {
    "colab": {},
    "colab_type": "code",
    "id": "A9KvG4NtuDRm"
   },
   "outputs": [],
   "source": [
    "# Code here:\n"
   ]
  },
  {
   "cell_type": "markdown",
   "metadata": {
    "colab_type": "text",
    "id": "7ejiNLsx6VoN"
   },
   "source": [
    "## Unit 1. First overview (12h15-13h00)\n",
    "\n",
    "In this chapter we do the first overview of the dataset and should make it (more) usable for the next steps."
   ]
  },
  {
   "cell_type": "markdown",
   "metadata": {
    "colab_type": "text",
    "id": "9INgDoo5cZgF"
   },
   "source": [
    "#### **Check the head, tail and shape of the dataset**"
   ]
  },
  {
   "cell_type": "code",
   "execution_count": null,
   "metadata": {
    "colab": {
     "base_uri": "https://localhost:8080/",
     "height": 204
    },
    "colab_type": "code",
    "executionInfo": {
     "elapsed": 2320,
     "status": "ok",
     "timestamp": 1587218945261,
     "user": {
      "displayName": "Nuno Reis",
      "photoUrl": "",
      "userId": "07361859627404914753"
     },
     "user_tz": -60
    },
    "id": "2psQgIL_FaJK",
    "outputId": "37ff7e78-fb25-4a5c-c0a2-8890ff9598fb"
   },
   "outputs": [],
   "source": [
    "# Code here:\n"
   ]
  },
  {
   "cell_type": "markdown",
   "metadata": {
    "colab_type": "text",
    "id": "p0iKoYp6GgqH"
   },
   "source": [
    "#### **Q1. What are the columns of the dataset?**"
   ]
  },
  {
   "cell_type": "code",
   "execution_count": null,
   "metadata": {
    "colab": {
     "base_uri": "https://localhost:8080/",
     "height": 204
    },
    "colab_type": "code",
    "executionInfo": {
     "elapsed": 2307,
     "status": "ok",
     "timestamp": 1587218945262,
     "user": {
      "displayName": "Nuno Reis",
      "photoUrl": "",
      "userId": "07361859627404914753"
     },
     "user_tz": -60
    },
    "id": "SlUFAty-LctT",
    "outputId": "623f30a3-16cc-45e1-f089-057f15a00766"
   },
   "outputs": [],
   "source": [
    "# Code here:\n"
   ]
  },
  {
   "cell_type": "markdown",
   "metadata": {
    "colab_type": "text",
    "id": "f_zW1ZUq_U7g"
   },
   "source": [
    "##### **Q1.1. Rename the columns of the dataset to make it easier to work with.**\n",
    "Use the follow dictionary to rename the columns:\n",
    "```\n",
    "{'Country/Region': 'country',\n",
    " 'Date (yyyy/mm/dd)': 'date',\n",
    " 'Confirmed cases': 'confirmed',\n",
    " 'Death cases': 'deaths',\n",
    " 'Recovered cases': 'recovered'\n",
    "}\n",
    "```"
   ]
  },
  {
   "cell_type": "code",
   "execution_count": null,
   "metadata": {
    "colab": {},
    "colab_type": "code",
    "id": "726t_0wAFXjN"
   },
   "outputs": [],
   "source": [
    "# Code here:\n"
   ]
  },
  {
   "cell_type": "markdown",
   "metadata": {
    "colab_type": "text",
    "id": "kfyO6LYJHShO"
   },
   "source": [
    "#### **Q2. What is the type of each column of the dataset?**"
   ]
  },
  {
   "cell_type": "code",
   "execution_count": null,
   "metadata": {
    "colab": {
     "base_uri": "https://localhost:8080/",
     "height": 119
    },
    "colab_type": "code",
    "executionInfo": {
     "elapsed": 2287,
     "status": "ok",
     "timestamp": 1587218945265,
     "user": {
      "displayName": "Nuno Reis",
      "photoUrl": "",
      "userId": "07361859627404914753"
     },
     "user_tz": -60
    },
    "id": "Zes5YJRVLhJ8",
    "outputId": "4ba11291-8f1a-4154-c89f-6ce894adc653"
   },
   "outputs": [],
   "source": [
    "# Code here:\n"
   ]
  },
  {
   "cell_type": "markdown",
   "metadata": {
    "colab_type": "text",
    "id": "BMSR_5-DArIi"
   },
   "source": [
    "##### **Q2.1. Change the type of the 'date' column to datetime.**"
   ]
  },
  {
   "cell_type": "code",
   "execution_count": null,
   "metadata": {
    "colab": {
     "base_uri": "https://localhost:8080/",
     "height": 119
    },
    "colab_type": "code",
    "executionInfo": {
     "elapsed": 2271,
     "status": "ok",
     "timestamp": 1587218945266,
     "user": {
      "displayName": "Nuno Reis",
      "photoUrl": "",
      "userId": "07361859627404914753"
     },
     "user_tz": -60
    },
    "id": "KPr8EbWNBr5y",
    "outputId": "b968a5d7-f160-4b09-a6c1-1c4f1b84fd6d"
   },
   "outputs": [],
   "source": [
    "# Code here:\n"
   ]
  },
  {
   "cell_type": "markdown",
   "metadata": {
    "colab_type": "text",
    "id": "8gqNshqCHoJ0"
   },
   "source": [
    "#### **Q3. Do we have \"nulls\" in the dataset?**"
   ]
  },
  {
   "cell_type": "code",
   "execution_count": null,
   "metadata": {
    "colab": {
     "base_uri": "https://localhost:8080/",
     "height": 119
    },
    "colab_type": "code",
    "executionInfo": {
     "elapsed": 2260,
     "status": "ok",
     "timestamp": 1587218945266,
     "user": {
      "displayName": "Nuno Reis",
      "photoUrl": "",
      "userId": "07361859627404914753"
     },
     "user_tz": -60
    },
    "id": "QGWRDQ_MbolA",
    "outputId": "01f522f1-0b75-4cca-a3da-74537ac43d12"
   },
   "outputs": [],
   "source": [
    "# Code here:\n"
   ]
  },
  {
   "cell_type": "markdown",
   "metadata": {
    "colab_type": "text",
    "id": "AyVsxzlNHyyt"
   },
   "source": [
    "#### **Q4. How many countries do we have represented in the dataset?**"
   ]
  },
  {
   "cell_type": "code",
   "execution_count": null,
   "metadata": {
    "colab": {
     "base_uri": "https://localhost:8080/",
     "height": 34
    },
    "colab_type": "code",
    "executionInfo": {
     "elapsed": 2251,
     "status": "ok",
     "timestamp": 1587218945267,
     "user": {
      "displayName": "Nuno Reis",
      "photoUrl": "",
      "userId": "07361859627404914753"
     },
     "user_tz": -60
    },
    "id": "T5Q0GS5bebTL",
    "outputId": "01e1030d-0590-4ee5-dd59-59d671eaa023"
   },
   "outputs": [],
   "source": [
    "# Code here:\n"
   ]
  },
  {
   "cell_type": "markdown",
   "metadata": {
    "colab_type": "text",
    "id": "G0nSUztrJH27"
   },
   "source": [
    "#### **Q5. What is the first and the last 'date' of the dataset?**"
   ]
  },
  {
   "cell_type": "code",
   "execution_count": null,
   "metadata": {
    "colab": {
     "base_uri": "https://localhost:8080/",
     "height": 34
    },
    "colab_type": "code",
    "executionInfo": {
     "elapsed": 2242,
     "status": "ok",
     "timestamp": 1587218945268,
     "user": {
      "displayName": "Nuno Reis",
      "photoUrl": "",
      "userId": "07361859627404914753"
     },
     "user_tz": -60
    },
    "id": "VNqPhzIXfNoI",
    "outputId": "65627552-d779-4cfa-fead-96a4c17b446c"
   },
   "outputs": [],
   "source": [
    "# Code here:\n"
   ]
  },
  {
   "cell_type": "markdown",
   "metadata": {
    "colab_type": "text",
    "id": "lhu0KiaEDe8J"
   },
   "source": [
    "## Unit 2. Data Analysis: Worldwide  (14h00-15h00)\n",
    "\n",
    "Time to make some worldwide analysis looking at global metrics and comparing countries."
   ]
  },
  {
   "cell_type": "markdown",
   "metadata": {
    "colab_type": "text",
    "id": "xJ49FpwxLD7h"
   },
   "source": [
    "#### **Q6. We checked before that we have data for 'confirmed', 'recovered' and 'deaths' cases but something is missing... Add the column for 'active' cases to the dataset.**"
   ]
  },
  {
   "cell_type": "code",
   "execution_count": null,
   "metadata": {
    "colab": {},
    "colab_type": "code",
    "id": "J1w1PepcirAB"
   },
   "outputs": [],
   "source": [
    "# Code here:\n"
   ]
  },
  {
   "cell_type": "markdown",
   "metadata": {
    "colab_type": "text",
    "id": "b725iszzL8bl"
   },
   "source": [
    "#### **Q7. Create a dataset that have the cumulative ACTIVE cases worldwide per day.**"
   ]
  },
  {
   "cell_type": "code",
   "execution_count": null,
   "metadata": {
    "colab": {
     "base_uri": "https://localhost:8080/",
     "height": 136
    },
    "colab_type": "code",
    "executionInfo": {
     "elapsed": 2220,
     "status": "ok",
     "timestamp": 1587218945271,
     "user": {
      "displayName": "Nuno Reis",
      "photoUrl": "",
      "userId": "07361859627404914753"
     },
     "user_tz": -60
    },
    "id": "voibydFclDB4",
    "outputId": "3f0fc81b-2bab-4046-94cd-d4c80252907b"
   },
   "outputs": [],
   "source": [
    "# Code here:\n"
   ]
  },
  {
   "cell_type": "markdown",
   "metadata": {
    "colab_type": "text",
    "id": "dOfftThTMoFc"
   },
   "source": [
    "![showtime](https://media.giphy.com/media/13ZVRnWnmSMaRy/giphy.gif)\n",
    "\n",
    "***IT'S SHOOOOOOW TIME***\n",
    "\n",
    "#### **Q8. Plot the curve with the evolution of the active cases worlwide.**"
   ]
  },
  {
   "cell_type": "code",
   "execution_count": null,
   "metadata": {
    "colab": {
     "base_uri": "https://localhost:8080/",
     "height": 330
    },
    "colab_type": "code",
    "executionInfo": {
     "elapsed": 1493,
     "status": "ok",
     "timestamp": 1587219076364,
     "user": {
      "displayName": "Nuno Reis",
      "photoUrl": "",
      "userId": "07361859627404914753"
     },
     "user_tz": -60
    },
    "id": "oZ1vzWgUjotD",
    "outputId": "a3e80949-2025-4c32-eabe-c87a5ae1ea51"
   },
   "outputs": [],
   "source": [
    "# Code here:\n"
   ]
  },
  {
   "cell_type": "markdown",
   "metadata": {
    "colab_type": "text",
    "id": "oAHGd26ANxqZ"
   },
   "source": [
    "#### **Q9. Get the top 10 countries by confirmed cases and plot a bar chart with the top 10 countries with more confirmed cases.**\n",
    "> **Hint**: You can filter the dataset by the latest day of the dataset (it has the number of confirmed cases in each country). Then sort the values by 'confirmed' and use `head(10)` to get the top 10."
   ]
  },
  {
   "cell_type": "code",
   "execution_count": null,
   "metadata": {
    "colab": {
     "base_uri": "https://localhost:8080/",
     "height": 359
    },
    "colab_type": "code",
    "executionInfo": {
     "elapsed": 2678,
     "status": "ok",
     "timestamp": 1587218945751,
     "user": {
      "displayName": "Nuno Reis",
      "photoUrl": "",
      "userId": "07361859627404914753"
     },
     "user_tz": -60
    },
    "id": "ZjSaEFjxiq0-",
    "outputId": "c7ebee0c-6dbf-4467-de16-ec27786bb84a"
   },
   "outputs": [],
   "source": [
    "# Code here to get the top 10:\n"
   ]
  },
  {
   "cell_type": "code",
   "execution_count": null,
   "metadata": {
    "colab": {
     "base_uri": "https://localhost:8080/",
     "height": 295
    },
    "colab_type": "code",
    "executionInfo": {
     "elapsed": 3056,
     "status": "ok",
     "timestamp": 1587218946140,
     "user": {
      "displayName": "Nuno Reis",
      "photoUrl": "",
      "userId": "07361859627404914753"
     },
     "user_tz": -60
    },
    "id": "YRKIU_iFwqgy",
    "outputId": "5be772a9-52b3-44bc-9fda-0b191f051553"
   },
   "outputs": [],
   "source": [
    "# Code here to plot the bar chart:\n"
   ]
  },
  {
   "cell_type": "markdown",
   "metadata": {
    "colab_type": "text",
    "id": "saevC45eYxGN"
   },
   "source": [
    "#### **Q10. Calculate the recovery percentage and mortality rate for each country in latest day**\n",
    "\n",
    "> **Hint:** Create a dataset with just the last date and create a column for each of the ratios we want:"
   ]
  },
  {
   "cell_type": "code",
   "execution_count": null,
   "metadata": {
    "colab": {
     "base_uri": "https://localhost:8080/",
     "height": 419
    },
    "colab_type": "code",
    "executionInfo": {
     "elapsed": 3047,
     "status": "ok",
     "timestamp": 1587218946141,
     "user": {
      "displayName": "Nuno Reis",
      "photoUrl": "",
      "userId": "07361859627404914753"
     },
     "user_tz": -60
    },
    "id": "YnDJbonlYv0l",
    "outputId": "ddaf91e8-3b14-417f-f8af-b14a5cdd5f5a"
   },
   "outputs": [],
   "source": [
    "# Code here:\n"
   ]
  },
  {
   "cell_type": "markdown",
   "metadata": {
    "colab_type": "text",
    "id": "ehX789K6jt2w"
   },
   "source": [
    "![](https://media.giphy.com/media/rbaC8w0QY1vGw/giphy.gif)\n",
    "\n",
    "##### **POLYGRAPH TIME!!!**\n",
    "\n",
    "> ***BREAKING NEWS:***\n",
    "> \n",
    "> *Netherlands has the highest recovery percentage in the world!*\n",
    "\n",
    "\n",
    "##### **Q10.1. Is this a fake news?**"
   ]
  },
  {
   "cell_type": "code",
   "execution_count": null,
   "metadata": {
    "colab": {
     "base_uri": "https://localhost:8080/",
     "height": 204
    },
    "colab_type": "code",
    "executionInfo": {
     "elapsed": 3040,
     "status": "ok",
     "timestamp": 1587218946145,
     "user": {
      "displayName": "Nuno Reis",
      "photoUrl": "",
      "userId": "07361859627404914753"
     },
     "user_tz": -60
    },
    "id": "SVD-BL1xkvSi",
    "outputId": "c0d3a489-11a5-4e92-860e-37dea8a0a0f7"
   },
   "outputs": [],
   "source": [
    "# Code here:\n"
   ]
  },
  {
   "cell_type": "markdown",
   "metadata": {
    "colab_type": "text",
    "id": "O1NmoCMST_4Q"
   },
   "source": [
    "## Unit 3. Data analysis - Country (15h00-16h15)\n",
    "\n",
    "From now on, you will only analyse one country that should be selected from the list below."
   ]
  },
  {
   "cell_type": "markdown",
   "metadata": {
    "colab_type": "text",
    "id": "HYWzqYhYfEmd"
   },
   "source": [
    "For this chapter consider the following values of population (you need the value for your country population to make a further question):"
   ]
  },
  {
   "cell_type": "code",
   "execution_count": null,
   "metadata": {
    "colab": {},
    "colab_type": "code",
    "id": "ct6eyil0xABI"
   },
   "outputs": [],
   "source": [
    "population = {'US': 331002651,\n",
    "              'Spain': 46754778,\n",
    "              'Italy': 60461826,\n",
    "              'Portugal': 10196709,\n",
    "              'United Kingdom': 67886011,\n",
    "              'Germany': 83783942,\n",
    "              'Norway': 5421241,\n",
    "              'Belgium': 11589623,\n",
    "              'Netherlands': 17134872}"
   ]
  },
  {
   "cell_type": "markdown",
   "metadata": {
    "colab_type": "text",
    "id": "B8k35RXXDyHN"
   },
   "source": [
    "### Attention: **The solution is assuming your country is Germany**!"
   ]
  },
  {
   "cell_type": "markdown",
   "metadata": {
    "colab_type": "text",
    "id": "lwJbowveVomV"
   },
   "source": [
    "#### **Q11. Get a dataset that contains only information regarding your country.**"
   ]
  },
  {
   "cell_type": "code",
   "execution_count": null,
   "metadata": {
    "colab": {},
    "colab_type": "code",
    "id": "-3eK5rBHUsQk"
   },
   "outputs": [],
   "source": [
    "# Code here:\n"
   ]
  },
  {
   "cell_type": "markdown",
   "metadata": {
    "colab_type": "text",
    "id": "u1fzS1Qhc1F5"
   },
   "source": [
    "#### **Q12. Create a dataset that only contains information since the day that was registered the first case in your country. Tell us what is that day and how many cases were registered in that day?**"
   ]
  },
  {
   "cell_type": "code",
   "execution_count": null,
   "metadata": {
    "colab": {
     "base_uri": "https://localhost:8080/",
     "height": 80
    },
    "colab_type": "code",
    "executionInfo": {
     "elapsed": 3012,
     "status": "ok",
     "timestamp": 1587218946149,
     "user": {
      "displayName": "Nuno Reis",
      "photoUrl": "",
      "userId": "07361859627404914753"
     },
     "user_tz": -60
    },
    "id": "0ea-WKaRdEzd",
    "outputId": "5803aa1e-6ea8-488b-ede2-c17a00999c98"
   },
   "outputs": [],
   "source": [
    "# Code here:\n"
   ]
  },
  {
   "cell_type": "markdown",
   "metadata": {
    "colab_type": "text",
    "id": "TSMHiRWRf0w_"
   },
   "source": [
    "#### **Q13. Get a column with the confirmed cases in proportion to 1M of the population.**"
   ]
  },
  {
   "cell_type": "code",
   "execution_count": null,
   "metadata": {
    "colab": {
     "base_uri": "https://localhost:8080/",
     "height": 204
    },
    "colab_type": "code",
    "executionInfo": {
     "elapsed": 3001,
     "status": "ok",
     "timestamp": 1587218946150,
     "user": {
      "displayName": "Nuno Reis",
      "photoUrl": "",
      "userId": "07361859627404914753"
     },
     "user_tz": -60
    },
    "id": "ZXnuKYjhPYZi",
    "outputId": "b2d27cbd-d538-4af8-818d-20852ea1a3b3"
   },
   "outputs": [],
   "source": [
    "# Code here:\n"
   ]
  },
  {
   "cell_type": "markdown",
   "metadata": {
    "colab_type": "text",
    "id": "apVqiLP0SZ4z"
   },
   "source": [
    "#### **Q14. Get a column that register the number of days since the first case was registered per country.**"
   ]
  },
  {
   "cell_type": "code",
   "execution_count": null,
   "metadata": {
    "colab": {
     "base_uri": "https://localhost:8080/",
     "height": 204
    },
    "colab_type": "code",
    "executionInfo": {
     "elapsed": 2990,
     "status": "ok",
     "timestamp": 1587218946151,
     "user": {
      "displayName": "Nuno Reis",
      "photoUrl": "",
      "userId": "07361859627404914753"
     },
     "user_tz": -60
    },
    "id": "wm2ywJOgS9li",
    "outputId": "9714cba8-e89f-452f-aff1-e8fbd4b10a20"
   },
   "outputs": [],
   "source": [
    "# Code here:\n"
   ]
  },
  {
   "cell_type": "markdown",
   "metadata": {
    "colab_type": "text",
    "id": "Wzj3yb4cuY8H"
   },
   "source": [
    "![showtime](https://media.giphy.com/media/fxqt51CAMGITJlxcRI/giphy.gif)\n",
    "\n",
    "***IT'S SHOOOOOOW TIME***\n",
    "\n",
    "#### **Q15. Plot the cruve with evolution of confirmed cases per 1M of population since the 1st case for your country**"
   ]
  },
  {
   "cell_type": "code",
   "execution_count": null,
   "metadata": {
    "colab": {
     "base_uri": "https://localhost:8080/",
     "height": 295
    },
    "colab_type": "code",
    "executionInfo": {
     "elapsed": 3336,
     "status": "ok",
     "timestamp": 1587218946512,
     "user": {
      "displayName": "Nuno Reis",
      "photoUrl": "",
      "userId": "07361859627404914753"
     },
     "user_tz": -60
    },
    "id": "rVyzxnyZuk2l",
    "outputId": "a0cd2f2c-b225-4c50-ebdf-9f589dbb08c4"
   },
   "outputs": [],
   "source": [
    "# Code here:\n"
   ]
  },
  {
   "cell_type": "markdown",
   "metadata": {
    "colab_type": "text",
    "id": "v-7V5IaHcGa1"
   },
   "source": [
    "#### **Q16. How does your country compares in terms of confirmed cases to others?**\n",
    "\n",
    "Just run the code below and analyze the chart. Compare your country with others."
   ]
  },
  {
   "cell_type": "code",
   "execution_count": null,
   "metadata": {
    "colab": {
     "base_uri": "https://localhost:8080/",
     "height": 621
    },
    "colab_type": "code",
    "executionInfo": {
     "elapsed": 3887,
     "status": "ok",
     "timestamp": 1587218947072,
     "user": {
      "displayName": "Nuno Reis",
      "photoUrl": "",
      "userId": "07361859627404914753"
     },
     "user_tz": -60
    },
    "id": "ijil4ICsabgz",
    "outputId": "40072fde-41ad-42a4-8242-ce3cacf7252e"
   },
   "outputs": [],
   "source": [
    "# Run this cell:\n",
    "import pandas as pd\n",
    "from matplotlib import pyplot as plt\n",
    "%matplotlib inline\n",
    "\n",
    "population_plot = {'US': 331002651,'Spain': 46754778,'Italy': 60461826,'Portugal': 10196709,\n",
    "                   'United Kingdom': 67886011,'Germany': 83783942,'Norway': 5421241,\n",
    "                   'Belgium': 11589623,'Netherlands': 17134872,'Sweden': 10086360}\n",
    "\n",
    "df_thorly = pd.read_csv('./dataset.csv')\n",
    "df_thorly['Date (yyyy/mm/dd)'] = pd.to_datetime(df_thorly['Date (yyyy/mm/dd)'])\n",
    "plt.figure(figsize=(10,10))\n",
    "\n",
    "for country in population:\n",
    "  country_df = df_thorly[df_thorly['Country/Region'] == country]\n",
    "  country_df = country_df[country_df['Confirmed cases'] > 0]\n",
    "  country_df['confirmed_pop'] = ((country_df['Confirmed cases'] / population_plot[country]) * 1000000)\n",
    "  country_df['days'] = (country_df['Date (yyyy/mm/dd)'] - country_df['Date (yyyy/mm/dd)'].min()).dt.days\n",
    "\n",
    "  plt.plot(country_df.days, country_df.confirmed_pop, label = country)\n",
    "\n",
    "plt.legend()\n",
    "plt.grid()\n",
    "plt.xlabel('Number of days since the first case')\n",
    "plt.ylabel('Confirmed cases per 1M of population')\n",
    "plt.title('Evolution of confirmed cases per 1M of population since the 1st case')\n",
    "plt.show()"
   ]
  },
  {
   "cell_type": "markdown",
   "metadata": {
    "colab_type": "text",
    "id": "tTLofetbmcW_"
   },
   "source": [
    "![](https://media.giphy.com/media/rbaC8w0QY1vGw/giphy.gif)\n",
    "\n",
    "##### **POLYGRAPH TIME!!!**\n",
    "\n",
    "> ***BREAKING NEWS:***\n",
    "> \n",
    "> *Belgium is the country (among the countries presented on the chart) with the highest number of cases by 1M population!*\n",
    "\n",
    "\n",
    "##### **Q16.1. Is this a fake news?**\n",
    "\n",
    "*(There is no need to code in this question... Analyze the chart above)*"
   ]
  },
  {
   "cell_type": "markdown",
   "metadata": {
    "colab_type": "text",
    "id": "4SkTJNq_q2mJ"
   },
   "source": [
    "## Unit 4. Making predictions (16h30-17h45)\n",
    "Here we will deal with models definition and we should be able to make predictions. There are a lot of models that can be used but we prefer to keep things simple for now... Use the models we explained in the learning unit.\n",
    "\n",
    "Ah and remember that you should remove the \"first wave data\" from the dataset so your models can analyze and predict the second wave in better conditions!"
   ]
  },
  {
   "cell_type": "markdown",
   "metadata": {
    "colab_type": "text",
    "id": "MpGQIG5qnb2E"
   },
   "source": [
    "![prediction](https://media.giphy.com/media/3o72F5tx9CEhSDxonC/giphy.gif)\n",
    "\n",
    "#### Time to **fortune telling**!!!"
   ]
  },
  {
   "cell_type": "code",
   "execution_count": null,
   "metadata": {
    "colab": {
     "base_uri": "https://localhost:8080/",
     "height": 573
    },
    "colab_type": "code",
    "executionInfo": {
     "elapsed": 4501,
     "status": "ok",
     "timestamp": 1587218947697,
     "user": {
      "displayName": "Nuno Reis",
      "photoUrl": "",
      "userId": "07361859627404914753"
     },
     "user_tz": -60
    },
    "id": "bMM2iPAYnofm",
    "outputId": "13fa4991-cb7a-405e-d251-d7a57e05f6aa"
   },
   "outputs": [],
   "source": [
    "# Code here:"
   ]
  },
  {
   "cell_type": "markdown",
   "metadata": {
    "colab_type": "text",
    "id": "qQZ5Jw4k2dLJ"
   },
   "source": [
    "Then, to create the prediction file:"
   ]
  },
  {
   "cell_type": "code",
   "execution_count": null,
   "metadata": {
    "colab": {},
    "colab_type": "code",
    "id": "bHy8FPUDyqqe"
   },
   "outputs": [],
   "source": [
    "# Code here:\n"
   ]
  },
  {
   "cell_type": "markdown",
   "metadata": {
    "colab_type": "text",
    "id": "gFXhVpXWG99l"
   },
   "source": [
    "**Now you can get your file by opening the left pane and download it by click on mouse left button. After that, upload the file to the leaderboard using the instructions in the platform!**"
   ]
  },
  {
   "cell_type": "markdown",
   "metadata": {
    "colab_type": "text",
    "id": "bvjuHP2Ugozg"
   },
   "source": [
    "## Finish challenge (17h45)\n",
    "\n",
    "![](https://media.giphy.com/media/lD76yTC5zxZPG/giphy.gif)\n",
    "\n",
    "**Congratulations, you've been through an entire simple data science project.**\n",
    "\n",
    "Now it's time to finish your presentations!"
   ]
  }
 ],
 "metadata": {
  "colab": {
   "collapsed_sections": [],
   "name": "unit_4_solutions.ipynb",
   "provenance": []
  },
  "kernelspec": {
   "display_name": "Python 3",
   "language": "python",
   "name": "python3"
  },
  "language_info": {
   "codemirror_mode": {
    "name": "ipython",
    "version": 3
   },
   "file_extension": ".py",
   "mimetype": "text/x-python",
   "name": "python",
   "nbconvert_exporter": "python",
   "pygments_lexer": "ipython3",
   "version": "3.6.9"
  }
 },
 "nbformat": 4,
 "nbformat_minor": 1
}
